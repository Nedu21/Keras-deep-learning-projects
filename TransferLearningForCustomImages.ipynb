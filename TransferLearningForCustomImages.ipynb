{
  "nbformat": 4,
  "nbformat_minor": 0,
  "metadata": {
    "colab": {
      "provenance": [],
      "toc_visible": true,
      "gpuType": "T4",
      "authorship_tag": "ABX9TyM5j0gkr5roJCGdN2QdFWYv",
      "include_colab_link": true
    },
    "kernelspec": {
      "name": "python3",
      "display_name": "Python 3"
    },
    "language_info": {
      "name": "python"
    },
    "accelerator": "GPU"
  },
  "cells": [
    {
      "cell_type": "markdown",
      "metadata": {
        "id": "view-in-github",
        "colab_type": "text"
      },
      "source": [
        "<a href=\"https://colab.research.google.com/github/Nedu21/Keras-deep-learning-projects/blob/main/TransferLearningForCustomImages.ipynb\" target=\"_parent\"><img src=\"https://colab.research.google.com/assets/colab-badge.svg\" alt=\"Open In Colab\"/></a>"
      ]
    },
    {
      "cell_type": "markdown",
      "source": [
        "# Transfer Learning For Custom Images\n",
        "Keras makes it incredibly easy to use state-of-the-art image models through its keras.applications module.\n",
        "Popular Models:\n",
        "- VGG16 / VGG19: They have a very simple and deep architecture. They are a bit older and heavier (large file size) but are still great for learning and for many tasks.\n",
        "- ResNet50 (and its variants): This model was revolutionary because it introduced \"residual connections\" (or shortcuts) that allowed it to be much deeper than VGG without losing performance. It's a fantastic all-around performer and a very common choice for transfer learning.\n",
        "- InceptionV3: Developed by Google, this model is clever about being both accurate and computationally efficient. It uses special \"inception modules\" that process the image at different scales simultaneously.\n",
        "- MobileNet: As the name suggests, this model is designed to be lightweight and fast, making it perfect for mobile devices and applications where speed is critical. It sacrifices a tiny bit of accuracy for a huge gain in efficiency."
      ],
      "metadata": {
        "id": "ax5WMSOmKEF6"
      }
    },
    {
      "cell_type": "markdown",
      "source": [
        "## Make necessary imports"
      ],
      "metadata": {
        "id": "CCSbdun5UbCm"
      }
    },
    {
      "cell_type": "code",
      "source": [
        "import numpy as np\n",
        "import matplotlib.pyplot as plt\n",
        "import tensorflow as tf\n",
        "\n",
        "from sklearn.model_selection import train_test_split\n",
        "\n",
        "from tensorflow.keras.models import Model, Sequential\n",
        "from tensorflow.keras.layers import Input, Dense, GlobalAveragePooling2D, Dropout, Conv2D\n",
        "from tensorflow.keras.layers import RandomFlip, RandomRotation, RandomWidth, RandomHeight, RandomZoom, Rescaling, Resizing\n",
        "from tensorflow.keras.preprocessing.image import ImageDataGenerator\n",
        "from tensorflow.keras.applications.resnet50 import ResNet50\n",
        "from tensorflow.keras.datasets import fashion_mnist\n",
        "from tensorflow.keras.utils import to_categorical\n",
        "from tensorflow.keras.callbacks import EarlyStopping\n",
        "from tensorflow.data import Dataset, AUTOTUNE\n",
        "from tensorflow.keras.optimizers import Adam"
      ],
      "metadata": {
        "id": "RgFnkKErKaTD"
      },
      "execution_count": 29,
      "outputs": []
    },
    {
      "cell_type": "markdown",
      "source": [
        "## Preprocess the data"
      ],
      "metadata": {
        "id": "JwOYbZPrXGkv"
      }
    },
    {
      "cell_type": "code",
      "source": [
        "# Load the data\n",
        "(x_train, y_train), (x_test, y_test) = fashion_mnist.load_data()\n",
        "\n",
        "x_train, x_val, y_train, y_val = train_test_split(x_train, y_train, test_size=0.2, random_state=1)\n",
        "\n",
        "print(f\"x_train shape: {x_train.shape} - y_train shape: {y_train.shape}\")\n",
        "print(f\"x_val shape: {x_val.shape} - y_val shape: {y_val.shape}\")\n",
        "print(f\"x_test shape: {x_test.shape} - y_test shape: {y_test.shape}\")"
      ],
      "metadata": {
        "colab": {
          "base_uri": "https://localhost:8080/"
        },
        "id": "yfA92tz8XFse",
        "outputId": "083c0dcf-14d5-4268-a605-76032a78030e"
      },
      "execution_count": 2,
      "outputs": [
        {
          "output_type": "stream",
          "name": "stdout",
          "text": [
            "x_train shape: (48000, 28, 28) - y_train shape: (48000,)\n",
            "x_val shape: (12000, 28, 28) - y_val shape: (12000,)\n",
            "x_test shape: (10000, 28, 28) - y_test shape: (10000,)\n"
          ]
        }
      ]
    },
    {
      "cell_type": "markdown",
      "source": [
        "Convert the target variable into binary categories using keras to_categorical function"
      ],
      "metadata": {
        "id": "FeDrnE3DcsnI"
      }
    },
    {
      "cell_type": "code",
      "source": [
        "y_train = to_categorical(y_train)\n",
        "y_val = to_categorical(y_val)\n",
        "y_test = to_categorical(y_test)"
      ],
      "metadata": {
        "id": "02iSNb-kcye-"
      },
      "execution_count": 3,
      "outputs": []
    },
    {
      "cell_type": "code",
      "source": [
        "# Get the number of classes for the output layer\n",
        "num_classes = y_train.shape[1]"
      ],
      "metadata": {
        "id": "xxuSWTWm29mM"
      },
      "execution_count": 4,
      "outputs": []
    },
    {
      "cell_type": "markdown",
      "source": [
        "### Perform data augmentation"
      ],
      "metadata": {
        "id": "3_-dX3EIY7AC"
      }
    },
    {
      "cell_type": "code",
      "source": [
        "# Define the data augmentation layers as a sequential model\n",
        "data_augmentation = Sequential([\n",
        "    RandomFlip('horizontal'),\n",
        "    RandomRotation(0.055),\n",
        "    RandomZoom(0.2),\n",
        "    RandomWidth(0.1),\n",
        "    RandomHeight(0.2),\n",
        "])\n",
        "\n",
        "# Define the rescaling layer\n",
        "rescaling = Rescaling(1./255)\n",
        "\n",
        "# Image size\n",
        "IMG_SIZE = 224\n",
        "resizing = Resizing(IMG_SIZE, IMG_SIZE)"
      ],
      "metadata": {
        "id": "U7BDWoB_Xd-D"
      },
      "execution_count": 5,
      "outputs": []
    },
    {
      "cell_type": "code",
      "source": [
        "BATCH_SIZE = 32\n",
        "# Create Dataset objects from the training, validation, and test data\n",
        "train_ds = Dataset.from_tensor_slices((x_train, y_train))\n",
        "val_ds = Dataset.from_tensor_slices((x_val, y_val))\n",
        "test_ds = Dataset.from_tensor_slices((x_test, y_test))\n",
        "\n",
        "# Training pipeline: shuffle, batch, apply augmentation and rescale\n",
        "train_ds = train_ds.shuffle(train_ds.cardinality()) # .cardinality results in a uniform shuffle.\n",
        "train_ds = train_ds.batch(BATCH_SIZE)\n",
        "\n",
        "train_ds = train_ds.map(lambda x, y: (tf.expand_dims(x, axis=-1), y))\n",
        "train_ds = train_ds.map(lambda x, y: (data_augmentation(x, training =True), y), num_parallel_calls=AUTOTUNE)\n",
        "train_ds = train_ds.map(lambda x, y: (resizing(x), y), num_parallel_calls=AUTOTUNE)\n",
        "train_ds = train_ds.map(lambda x, y: (rescaling(x), y), num_parallel_calls=AUTOTUNE)\n",
        "train_ds = train_ds.prefetch(buffer_size=AUTOTUNE)\n",
        "\n",
        "# Validation and Test Pipelines: Just batch and rescale. No shuffling or augmentation!\n",
        "val_ds = val_ds.batch(BATCH_SIZE)\n",
        "val_ds = val_ds.map(lambda x, y: (tf.expand_dims(x, axis=-1), y)) # <-- Add it here too\n",
        "val_ds = val_ds.map(lambda x, y: (resizing(x), y), num_parallel_calls=AUTOTUNE)\n",
        "val_ds = val_ds.map(lambda x, y: (rescaling(x), y), num_parallel_calls=AUTOTUNE)\n",
        "val_ds = val_ds.prefetch(buffer_size=AUTOTUNE)\n",
        "\n",
        "test_ds = test_ds.batch(BATCH_SIZE)\n",
        "test_ds = test_ds.map(lambda x, y: (tf.expand_dims(x, axis=-1), y)) # <-- And here as well\n",
        "test_ds = test_ds.map(lambda x, y: (resizing(x), y), num_parallel_calls=AUTOTUNE)\n",
        "test_ds = test_ds.map(lambda x, y: (rescaling(x), y), num_parallel_calls=AUTOTUNE)\n",
        "test_ds = test_ds.prefetch(buffer_size=AUTOTUNE)"
      ],
      "metadata": {
        "id": "ddJHUS8nhnxQ"
      },
      "execution_count": 6,
      "outputs": []
    },
    {
      "cell_type": "code",
      "source": [
        "# Plot image samples\n",
        "plt.figure(figsize=(10, 10))\n",
        "for i in range(6):\n",
        "  plt.subplot(3, 3, i+1)\n",
        "  plt.imshow(x_train[i], cmap='gray')\n",
        "  plt.title(np.argmax(y_train[i]))\n",
        "  plt.axis('off')\n",
        "plt.show()"
      ],
      "metadata": {
        "colab": {
          "base_uri": "https://localhost:8080/",
          "height": 557
        },
        "id": "iGgY_e3w5bm_",
        "outputId": "250442f2-044b-42e0-fef9-f5d08b49b140"
      },
      "execution_count": 7,
      "outputs": [
        {
          "output_type": "display_data",
          "data": {
            "text/plain": [
              "<Figure size 1000x1000 with 6 Axes>"
            ],
            "image/png": "[encoded data removed]"
          },
          "metadata": {}
        }
      ]
    },
    {
      "cell_type": "markdown",
      "source": [
        "## Model Building"
      ],
      "metadata": {
        "id": "X0H-nJgO6-Af"
      }
    },
    {
      "cell_type": "code",
      "source": [
        "base_model = ResNet50(weights='imagenet', include_top=False, input_shape=(IMG_SIZE, IMG_SIZE, 3))\n",
        "# Freeze the Base Model\n",
        "base_model.trainable = False"
      ],
      "metadata": {
        "id": "09pA5WKS6Qg5"
      },
      "execution_count": 8,
      "outputs": []
    },
    {
      "cell_type": "code",
      "source": [
        "inputs = Input(shape=(IMG_SIZE, IMG_SIZE, 1)) # Start with the original image shape\n",
        "x = Conv2D(3, 3, padding='same', activation='relu')(inputs) # Add a Conv2D layer to expand to 3 channels\n",
        "x = base_model(x, training=False)\n",
        "x = GlobalAveragePooling2D()(x)\n",
        "x = Dropout(0.2)(x)\n",
        "outputs = Dense(num_classes, activation='softmax')(x)\n",
        "\n",
        "# Create and compile the final model\n",
        "model = Model(inputs, outputs)\n",
        "\n",
        "# Compile the model\n",
        "model.compile(optimizer='adam', loss='categorical_crossentropy', metrics=['accuracy'])\n",
        "\n",
        "model.summary()"
      ],
      "metadata": {
        "colab": {
          "base_uri": "https://localhost:8080/",
          "height": 337
        },
        "id": "HSJgmRBw_tix",
        "outputId": "fba0b47b-ea25-472b-8923-87a16485aeb0"
      },
      "execution_count": 9,
      "outputs": [
        {
          "output_type": "display_data",
          "data": {
            "text/plain": [
              "\u001b[1mModel: \"functional_1\"\u001b[0m\n"
            ],
            "text/html": [
              "<pre style=\"white-space:pre;overflow-x:auto;line-height:normal;font-family:Menlo,'DejaVu Sans Mono',consolas,'Courier New',monospace\"><span style=\"font-weight: bold\">Model: \"functional_1\"</span>\n",
              "</pre>\n"
            ]
          },
          "metadata": {}
        },
        {
          "output_type": "display_data",
          "data": {
            "text/plain": [
              "┏━━━━━━━━━━━━━━━━━━━━━━━━━━━━━━━━━┳━━━━━━━━━━━━━━━━━━━━━━━━┳━━━━━━━━━━━━━━━┓\n",
              "┃\u001b[1m \u001b[0m\u001b[1mLayer (type)                   \u001b[0m\u001b[1m \u001b[0m┃\u001b[1m \u001b[0m\u001b[1mOutput Shape          \u001b[0m\u001b[1m \u001b[0m┃\u001b[1m \u001b[0m\u001b[1m      Param #\u001b[0m\u001b[1m \u001b[0m┃\n",
              "┡━━━━━━━━━━━━━━━━━━━━━━━━━━━━━━━━━╇━━━━━━━━━━━━━━━━━━━━━━━━╇━━━━━━━━━━━━━━━┩\n",
              "│ input_layer_2 (\u001b[38;5;33mInputLayer\u001b[0m)      │ (\u001b[38;5;45mNone\u001b[0m, \u001b[38;5;34m224\u001b[0m, \u001b[38;5;34m224\u001b[0m, \u001b[38;5;34m1\u001b[0m)    │             \u001b[38;5;34m0\u001b[0m │\n",
              "├─────────────────────────────────┼────────────────────────┼───────────────┤\n",
              "│ conv2d (\u001b[38;5;33mConv2D\u001b[0m)                 │ (\u001b[38;5;45mNone\u001b[0m, \u001b[38;5;34m224\u001b[0m, \u001b[38;5;34m224\u001b[0m, \u001b[38;5;34m3\u001b[0m)    │            \u001b[38;5;34m30\u001b[0m │\n",
              "├─────────────────────────────────┼────────────────────────┼───────────────┤\n",
              "│ resnet50 (\u001b[38;5;33mFunctional\u001b[0m)           │ (\u001b[38;5;45mNone\u001b[0m, \u001b[38;5;34m7\u001b[0m, \u001b[38;5;34m7\u001b[0m, \u001b[38;5;34m2048\u001b[0m)     │    \u001b[38;5;34m23,587,712\u001b[0m │\n",
              "├─────────────────────────────────┼────────────────────────┼───────────────┤\n",
              "│ global_average_pooling2d        │ (\u001b[38;5;45mNone\u001b[0m, \u001b[38;5;34m2048\u001b[0m)           │             \u001b[38;5;34m0\u001b[0m │\n",
              "│ (\u001b[38;5;33mGlobalAveragePooling2D\u001b[0m)        │                        │               │\n",
              "├─────────────────────────────────┼────────────────────────┼───────────────┤\n",
              "│ dropout (\u001b[38;5;33mDropout\u001b[0m)               │ (\u001b[38;5;45mNone\u001b[0m, \u001b[38;5;34m2048\u001b[0m)           │             \u001b[38;5;34m0\u001b[0m │\n",
              "├─────────────────────────────────┼────────────────────────┼───────────────┤\n",
              "│ dense (\u001b[38;5;33mDense\u001b[0m)                   │ (\u001b[38;5;45mNone\u001b[0m, \u001b[38;5;34m10\u001b[0m)             │        \u001b[38;5;34m20,490\u001b[0m │\n",
              "└─────────────────────────────────┴────────────────────────┴───────────────┘\n"
            ],
            "text/html": [
              "<pre style=\"white-space:pre;overflow-x:auto;line-height:normal;font-family:Menlo,'DejaVu Sans Mono',consolas,'Courier New',monospace\">┏━━━━━━━━━━━━━━━━━━━━━━━━━━━━━━━━━┳━━━━━━━━━━━━━━━━━━━━━━━━┳━━━━━━━━━━━━━━━┓\n",
              "┃<span style=\"font-weight: bold\"> Layer (type)                    </span>┃<span style=\"font-weight: bold\"> Output Shape           </span>┃<span style=\"font-weight: bold\">       Param # </span>┃\n",
              "┡━━━━━━━━━━━━━━━━━━━━━━━━━━━━━━━━━╇━━━━━━━━━━━━━━━━━━━━━━━━╇━━━━━━━━━━━━━━━┩\n",
              "│ input_layer_2 (<span style=\"color: #0087ff; text-decoration-color: #0087ff\">InputLayer</span>)      │ (<span style=\"color: #00d7ff; text-decoration-color: #00d7ff\">None</span>, <span style=\"color: #00af00; text-decoration-color: #00af00\">224</span>, <span style=\"color: #00af00; text-decoration-color: #00af00\">224</span>, <span style=\"color: #00af00; text-decoration-color: #00af00\">1</span>)    │             <span style=\"color: #00af00; text-decoration-color: #00af00\">0</span> │\n",
              "├─────────────────────────────────┼────────────────────────┼───────────────┤\n",
              "│ conv2d (<span style=\"color: #0087ff; text-decoration-color: #0087ff\">Conv2D</span>)                 │ (<span style=\"color: #00d7ff; text-decoration-color: #00d7ff\">None</span>, <span style=\"color: #00af00; text-decoration-color: #00af00\">224</span>, <span style=\"color: #00af00; text-decoration-color: #00af00\">224</span>, <span style=\"color: #00af00; text-decoration-color: #00af00\">3</span>)    │            <span style=\"color: #00af00; text-decoration-color: #00af00\">30</span> │\n",
              "├─────────────────────────────────┼────────────────────────┼───────────────┤\n",
              "│ resnet50 (<span style=\"color: #0087ff; text-decoration-color: #0087ff\">Functional</span>)           │ (<span style=\"color: #00d7ff; text-decoration-color: #00d7ff\">None</span>, <span style=\"color: #00af00; text-decoration-color: #00af00\">7</span>, <span style=\"color: #00af00; text-decoration-color: #00af00\">7</span>, <span style=\"color: #00af00; text-decoration-color: #00af00\">2048</span>)     │    <span style=\"color: #00af00; text-decoration-color: #00af00\">23,587,712</span> │\n",
              "├─────────────────────────────────┼────────────────────────┼───────────────┤\n",
              "│ global_average_pooling2d        │ (<span style=\"color: #00d7ff; text-decoration-color: #00d7ff\">None</span>, <span style=\"color: #00af00; text-decoration-color: #00af00\">2048</span>)           │             <span style=\"color: #00af00; text-decoration-color: #00af00\">0</span> │\n",
              "│ (<span style=\"color: #0087ff; text-decoration-color: #0087ff\">GlobalAveragePooling2D</span>)        │                        │               │\n",
              "├─────────────────────────────────┼────────────────────────┼───────────────┤\n",
              "│ dropout (<span style=\"color: #0087ff; text-decoration-color: #0087ff\">Dropout</span>)               │ (<span style=\"color: #00d7ff; text-decoration-color: #00d7ff\">None</span>, <span style=\"color: #00af00; text-decoration-color: #00af00\">2048</span>)           │             <span style=\"color: #00af00; text-decoration-color: #00af00\">0</span> │\n",
              "├─────────────────────────────────┼────────────────────────┼───────────────┤\n",
              "│ dense (<span style=\"color: #0087ff; text-decoration-color: #0087ff\">Dense</span>)                   │ (<span style=\"color: #00d7ff; text-decoration-color: #00d7ff\">None</span>, <span style=\"color: #00af00; text-decoration-color: #00af00\">10</span>)             │        <span style=\"color: #00af00; text-decoration-color: #00af00\">20,490</span> │\n",
              "└─────────────────────────────────┴────────────────────────┴───────────────┘\n",
              "</pre>\n"
            ]
          },
          "metadata": {}
        },
        {
          "output_type": "display_data",
          "data": {
            "text/plain": [
              "\u001b[1m Total params: \u001b[0m\u001b[38;5;34m23,608,232\u001b[0m (90.06 MB)\n"
            ],
            "text/html": [
              "<pre style=\"white-space:pre;overflow-x:auto;line-height:normal;font-family:Menlo,'DejaVu Sans Mono',consolas,'Courier New',monospace\"><span style=\"font-weight: bold\"> Total params: </span><span style=\"color: #00af00; text-decoration-color: #00af00\">23,608,232</span> (90.06 MB)\n",
              "</pre>\n"
            ]
          },
          "metadata": {}
        },
        {
          "output_type": "display_data",
          "data": {
            "text/plain": [
              "\u001b[1m Trainable params: \u001b[0m\u001b[38;5;34m20,520\u001b[0m (80.16 KB)\n"
            ],
            "text/html": [
              "<pre style=\"white-space:pre;overflow-x:auto;line-height:normal;font-family:Menlo,'DejaVu Sans Mono',consolas,'Courier New',monospace\"><span style=\"font-weight: bold\"> Trainable params: </span><span style=\"color: #00af00; text-decoration-color: #00af00\">20,520</span> (80.16 KB)\n",
              "</pre>\n"
            ]
          },
          "metadata": {}
        },
        {
          "output_type": "display_data",
          "data": {
            "text/plain": [
              "\u001b[1m Non-trainable params: \u001b[0m\u001b[38;5;34m23,587,712\u001b[0m (89.98 MB)\n"
            ],
            "text/html": [
              "<pre style=\"white-space:pre;overflow-x:auto;line-height:normal;font-family:Menlo,'DejaVu Sans Mono',consolas,'Courier New',monospace\"><span style=\"font-weight: bold\"> Non-trainable params: </span><span style=\"color: #00af00; text-decoration-color: #00af00\">23,587,712</span> (89.98 MB)\n",
              "</pre>\n"
            ]
          },
          "metadata": {}
        }
      ]
    },
    {
      "cell_type": "markdown",
      "source": [
        "### Feature Extraction"
      ],
      "metadata": {
        "id": "Ao432bAUeTGj"
      }
    },
    {
      "cell_type": "code",
      "source": [
        "early_stopping = EarlyStopping(\n",
        "    monitor='val_loss',\n",
        "    patience=3,\n",
        "    restore_best_weights=True\n",
        ")\n",
        "\n",
        "history = model.fit(\n",
        "    train_ds,\n",
        "    validation_data=val_ds,\n",
        "    epochs=20,\n",
        "    callbacks=[early_stopping]\n",
        ")"
      ],
      "metadata": {
        "colab": {
          "base_uri": "https://localhost:8080/"
        },
        "id": "fq8CLBhICDaY",
        "outputId": "78e242ea-766b-4847-fa8c-ad17a8e222f9"
      },
      "execution_count": 10,
      "outputs": [
        {
          "output_type": "stream",
          "name": "stdout",
          "text": [
            "Epoch 1/20\n",
            "\u001b[1m1500/1500\u001b[0m \u001b[32m━━━━━━━━━━━━━━━━━━━━\u001b[0m\u001b[37m\u001b[0m \u001b[1m311s\u001b[0m 194ms/step - accuracy: 0.3632 - loss: 1.7358 - val_accuracy: 0.6514 - val_loss: 1.1165\n",
            "Epoch 2/20\n",
            "\u001b[1m1500/1500\u001b[0m \u001b[32m━━━━━━━━━━━━━━━━━━━━\u001b[0m\u001b[37m\u001b[0m \u001b[1m288s\u001b[0m 192ms/step - accuracy: 0.7276 - loss: 0.7499 - val_accuracy: 0.7042 - val_loss: 0.9763\n",
            "Epoch 3/20\n",
            "\u001b[1m1500/1500\u001b[0m \u001b[32m━━━━━━━━━━━━━━━━━━━━\u001b[0m\u001b[37m\u001b[0m \u001b[1m288s\u001b[0m 192ms/step - accuracy: 0.7620 - loss: 0.6511 - val_accuracy: 0.7404 - val_loss: 0.8759\n",
            "Epoch 4/20\n",
            "\u001b[1m1500/1500\u001b[0m \u001b[32m━━━━━━━━━━━━━━━━━━━━\u001b[0m\u001b[37m\u001b[0m \u001b[1m287s\u001b[0m 191ms/step - accuracy: 0.7766 - loss: 0.6161 - val_accuracy: 0.7639 - val_loss: 0.7642\n",
            "Epoch 5/20\n",
            "\u001b[1m1500/1500\u001b[0m \u001b[32m━━━━━━━━━━━━━━━━━━━━\u001b[0m\u001b[37m\u001b[0m \u001b[1m288s\u001b[0m 192ms/step - accuracy: 0.7900 - loss: 0.5771 - val_accuracy: 0.7755 - val_loss: 0.7253\n",
            "Epoch 6/20\n",
            "\u001b[1m1500/1500\u001b[0m \u001b[32m━━━━━━━━━━━━━━━━━━━━\u001b[0m\u001b[37m\u001b[0m \u001b[1m288s\u001b[0m 192ms/step - accuracy: 0.7982 - loss: 0.5533 - val_accuracy: 0.8093 - val_loss: 0.5859\n",
            "Epoch 7/20\n",
            "\u001b[1m1500/1500\u001b[0m \u001b[32m━━━━━━━━━━━━━━━━━━━━\u001b[0m\u001b[37m\u001b[0m \u001b[1m288s\u001b[0m 192ms/step - accuracy: 0.8039 - loss: 0.5333 - val_accuracy: 0.8033 - val_loss: 0.6573\n",
            "Epoch 8/20\n",
            "\u001b[1m1500/1500\u001b[0m \u001b[32m━━━━━━━━━━━━━━━━━━━━\u001b[0m\u001b[37m\u001b[0m \u001b[1m287s\u001b[0m 191ms/step - accuracy: 0.8102 - loss: 0.5254 - val_accuracy: 0.8148 - val_loss: 0.6262\n",
            "Epoch 9/20\n",
            "\u001b[1m1500/1500\u001b[0m \u001b[32m━━━━━━━━━━━━━━━━━━━━\u001b[0m\u001b[37m\u001b[0m \u001b[1m288s\u001b[0m 192ms/step - accuracy: 0.8148 - loss: 0.5088 - val_accuracy: 0.8157 - val_loss: 0.6127\n"
          ]
        }
      ]
    },
    {
      "cell_type": "code",
      "source": [
        "# Get the best epoch based on validation loss (due to EarlyStopping)\n",
        "best_epoch = history.history['val_loss'].index(min(history.history['val_loss']))\n",
        "\n",
        "# Get the corresponding metrics for the best epoch\n",
        "best_train_loss = history.history['loss'][best_epoch]\n",
        "best_train_accuracy = history.history['accuracy'][best_epoch]\n",
        "best_val_loss = history.history['val_loss'][best_epoch]\n",
        "best_val_accuracy = history.history['val_accuracy'][best_epoch]\n",
        "\n",
        "print(f\"Best Epoch: {best_epoch + 1}\") # Add 1 because epochs are 0-indexed\n",
        "print(f\"Best Training Loss: {best_train_loss:.4f}\")\n",
        "print(f\"Best Training Accuracy: {best_train_accuracy:.4f}\")\n",
        "print(f\"Best Validation Loss: {best_val_loss:.4f}\")\n",
        "print(f\"Best Validation Accuracy: {best_val_accuracy:.4f}\")"
      ],
      "metadata": {
        "colab": {
          "base_uri": "https://localhost:8080/"
        },
        "id": "tqTWY5TIc6kt",
        "outputId": "725e0b50-bb17-4590-c153-380f075ec271"
      },
      "execution_count": 12,
      "outputs": [
        {
          "output_type": "stream",
          "name": "stdout",
          "text": [
            "Best Epoch: 6\n",
            "Best Training Loss: 0.5496\n",
            "Best Training Accuracy: 0.7991\n",
            "Best Validation Loss: 0.5859\n",
            "Best Validation Accuracy: 0.8093\n"
          ]
        }
      ]
    },
    {
      "cell_type": "markdown",
      "source": [
        "### Fine-tuning the model"
      ],
      "metadata": {
        "id": "hGNDnTZgeO5r"
      }
    },
    {
      "cell_type": "code",
      "source": [
        "# Unfreeze the Base Model\n",
        "base_model.trainable = True\n",
        "\n",
        "# A switch to control which layers to freeze\n",
        "fine_tune = False\n",
        "\n",
        "# i is set to get the number of the layer\n",
        "i = 0\n",
        "\n",
        "# Loop through all layers in the base model\n",
        "for layer in base_model.layers:\n",
        "  i += 1\n",
        "\n",
        "  # Once we hit the target block, we start fine-tuning\n",
        "  if layer.name == 'conv5_block1_1_conv': # A specific layer at the start of conv5\n",
        "    fine_tune = True\n",
        "\n",
        "  # If the switch is on, the layer is trainable\n",
        "  if fine_tune:\n",
        "    layer.trainable = True\n",
        "  # Otherwise, keep the layer frozen\n",
        "  else:\n",
        "    layer.trainable = False\n",
        "\n",
        "  # --- VERIFICATION STEP ---\n",
        "  # Print the layer's name and its status\n",
        "  print(f\"{i} {layer.name}: Trainable = {layer.trainable}\")"
      ],
      "metadata": {
        "colab": {
          "base_uri": "https://localhost:8080/"
        },
        "collapsed": true,
        "id": "j2jHMGiNdDf1",
        "outputId": "b453a8fd-9149-4b30-f786-d1eeb526385f"
      },
      "execution_count": 27,
      "outputs": [
        {
          "output_type": "stream",
          "name": "stdout",
          "text": [
            "1 input_layer_1: Trainable = False\n",
            "2 conv1_pad: Trainable = False\n",
            "3 conv1_conv: Trainable = False\n",
            "4 conv1_bn: Trainable = False\n",
            "5 conv1_relu: Trainable = False\n",
            "6 pool1_pad: Trainable = False\n",
            "7 pool1_pool: Trainable = False\n",
            "8 conv2_block1_1_conv: Trainable = False\n",
            "9 conv2_block1_1_bn: Trainable = False\n",
            "10 conv2_block1_1_relu: Trainable = False\n",
            "11 conv2_block1_2_conv: Trainable = False\n",
            "12 conv2_block1_2_bn: Trainable = False\n",
            "13 conv2_block1_2_relu: Trainable = False\n",
            "14 conv2_block1_0_conv: Trainable = False\n",
            "15 conv2_block1_3_conv: Trainable = False\n",
            "16 conv2_block1_0_bn: Trainable = False\n",
            "17 conv2_block1_3_bn: Trainable = False\n",
            "18 conv2_block1_add: Trainable = False\n",
            "19 conv2_block1_out: Trainable = False\n",
            "20 conv2_block2_1_conv: Trainable = False\n",
            "21 conv2_block2_1_bn: Trainable = False\n",
            "22 conv2_block2_1_relu: Trainable = False\n",
            "23 conv2_block2_2_conv: Trainable = False\n",
            "24 conv2_block2_2_bn: Trainable = False\n",
            "25 conv2_block2_2_relu: Trainable = False\n",
            "26 conv2_block2_3_conv: Trainable = False\n",
            "27 conv2_block2_3_bn: Trainable = False\n",
            "28 conv2_block2_add: Trainable = False\n",
            "29 conv2_block2_out: Trainable = False\n",
            "30 conv2_block3_1_conv: Trainable = False\n",
            "31 conv2_block3_1_bn: Trainable = False\n",
            "32 conv2_block3_1_relu: Trainable = False\n",
            "33 conv2_block3_2_conv: Trainable = False\n",
            "34 conv2_block3_2_bn: Trainable = False\n",
            "35 conv2_block3_2_relu: Trainable = False\n",
            "36 conv2_block3_3_conv: Trainable = False\n",
            "37 conv2_block3_3_bn: Trainable = False\n",
            "38 conv2_block3_add: Trainable = False\n",
            "39 conv2_block3_out: Trainable = False\n",
            "40 conv3_block1_1_conv: Trainable = False\n",
            "41 conv3_block1_1_bn: Trainable = False\n",
            "42 conv3_block1_1_relu: Trainable = False\n",
            "43 conv3_block1_2_conv: Trainable = False\n",
            "44 conv3_block1_2_bn: Trainable = False\n",
            "45 conv3_block1_2_relu: Trainable = False\n",
            "46 conv3_block1_0_conv: Trainable = False\n",
            "47 conv3_block1_3_conv: Trainable = False\n",
            "48 conv3_block1_0_bn: Trainable = False\n",
            "49 conv3_block1_3_bn: Trainable = False\n",
            "50 conv3_block1_add: Trainable = False\n",
            "51 conv3_block1_out: Trainable = False\n",
            "52 conv3_block2_1_conv: Trainable = False\n",
            "53 conv3_block2_1_bn: Trainable = False\n",
            "54 conv3_block2_1_relu: Trainable = False\n",
            "55 conv3_block2_2_conv: Trainable = False\n",
            "56 conv3_block2_2_bn: Trainable = False\n",
            "57 conv3_block2_2_relu: Trainable = False\n",
            "58 conv3_block2_3_conv: Trainable = False\n",
            "59 conv3_block2_3_bn: Trainable = False\n",
            "60 conv3_block2_add: Trainable = False\n",
            "61 conv3_block2_out: Trainable = False\n",
            "62 conv3_block3_1_conv: Trainable = False\n",
            "63 conv3_block3_1_bn: Trainable = False\n",
            "64 conv3_block3_1_relu: Trainable = False\n",
            "65 conv3_block3_2_conv: Trainable = False\n",
            "66 conv3_block3_2_bn: Trainable = False\n",
            "67 conv3_block3_2_relu: Trainable = False\n",
            "68 conv3_block3_3_conv: Trainable = False\n",
            "69 conv3_block3_3_bn: Trainable = False\n",
            "70 conv3_block3_add: Trainable = False\n",
            "71 conv3_block3_out: Trainable = False\n",
            "72 conv3_block4_1_conv: Trainable = False\n",
            "73 conv3_block4_1_bn: Trainable = False\n",
            "74 conv3_block4_1_relu: Trainable = False\n",
            "75 conv3_block4_2_conv: Trainable = False\n",
            "76 conv3_block4_2_bn: Trainable = False\n",
            "77 conv3_block4_2_relu: Trainable = False\n",
            "78 conv3_block4_3_conv: Trainable = False\n",
            "79 conv3_block4_3_bn: Trainable = False\n",
            "80 conv3_block4_add: Trainable = False\n",
            "81 conv3_block4_out: Trainable = False\n",
            "82 conv4_block1_1_conv: Trainable = False\n",
            "83 conv4_block1_1_bn: Trainable = False\n",
            "84 conv4_block1_1_relu: Trainable = False\n",
            "85 conv4_block1_2_conv: Trainable = False\n",
            "86 conv4_block1_2_bn: Trainable = False\n",
            "87 conv4_block1_2_relu: Trainable = False\n",
            "88 conv4_block1_0_conv: Trainable = False\n",
            "89 conv4_block1_3_conv: Trainable = False\n",
            "90 conv4_block1_0_bn: Trainable = False\n",
            "91 conv4_block1_3_bn: Trainable = False\n",
            "92 conv4_block1_add: Trainable = False\n",
            "93 conv4_block1_out: Trainable = False\n",
            "94 conv4_block2_1_conv: Trainable = False\n",
            "95 conv4_block2_1_bn: Trainable = False\n",
            "96 conv4_block2_1_relu: Trainable = False\n",
            "97 conv4_block2_2_conv: Trainable = False\n",
            "98 conv4_block2_2_bn: Trainable = False\n",
            "99 conv4_block2_2_relu: Trainable = False\n",
            "100 conv4_block2_3_conv: Trainable = False\n",
            "101 conv4_block2_3_bn: Trainable = False\n",
            "102 conv4_block2_add: Trainable = False\n",
            "103 conv4_block2_out: Trainable = False\n",
            "104 conv4_block3_1_conv: Trainable = False\n",
            "105 conv4_block3_1_bn: Trainable = False\n",
            "106 conv4_block3_1_relu: Trainable = False\n",
            "107 conv4_block3_2_conv: Trainable = False\n",
            "108 conv4_block3_2_bn: Trainable = False\n",
            "109 conv4_block3_2_relu: Trainable = False\n",
            "110 conv4_block3_3_conv: Trainable = False\n",
            "111 conv4_block3_3_bn: Trainable = False\n",
            "112 conv4_block3_add: Trainable = False\n",
            "113 conv4_block3_out: Trainable = False\n",
            "114 conv4_block4_1_conv: Trainable = False\n",
            "115 conv4_block4_1_bn: Trainable = False\n",
            "116 conv4_block4_1_relu: Trainable = False\n",
            "117 conv4_block4_2_conv: Trainable = False\n",
            "118 conv4_block4_2_bn: Trainable = False\n",
            "119 conv4_block4_2_relu: Trainable = False\n",
            "120 conv4_block4_3_conv: Trainable = False\n",
            "121 conv4_block4_3_bn: Trainable = False\n",
            "122 conv4_block4_add: Trainable = False\n",
            "123 conv4_block4_out: Trainable = False\n",
            "124 conv4_block5_1_conv: Trainable = False\n",
            "125 conv4_block5_1_bn: Trainable = False\n",
            "126 conv4_block5_1_relu: Trainable = False\n",
            "127 conv4_block5_2_conv: Trainable = False\n",
            "128 conv4_block5_2_bn: Trainable = False\n",
            "129 conv4_block5_2_relu: Trainable = False\n",
            "130 conv4_block5_3_conv: Trainable = False\n",
            "131 conv4_block5_3_bn: Trainable = False\n",
            "132 conv4_block5_add: Trainable = False\n",
            "133 conv4_block5_out: Trainable = False\n",
            "134 conv4_block6_1_conv: Trainable = False\n",
            "135 conv4_block6_1_bn: Trainable = False\n",
            "136 conv4_block6_1_relu: Trainable = False\n",
            "137 conv4_block6_2_conv: Trainable = False\n",
            "138 conv4_block6_2_bn: Trainable = False\n",
            "139 conv4_block6_2_relu: Trainable = False\n",
            "140 conv4_block6_3_conv: Trainable = False\n",
            "141 conv4_block6_3_bn: Trainable = False\n",
            "142 conv4_block6_add: Trainable = False\n",
            "143 conv4_block6_out: Trainable = False\n",
            "144 conv5_block1_1_conv: Trainable = True\n",
            "145 conv5_block1_1_bn: Trainable = True\n",
            "146 conv5_block1_1_relu: Trainable = True\n",
            "147 conv5_block1_2_conv: Trainable = True\n",
            "148 conv5_block1_2_bn: Trainable = True\n",
            "149 conv5_block1_2_relu: Trainable = True\n",
            "150 conv5_block1_0_conv: Trainable = True\n",
            "151 conv5_block1_3_conv: Trainable = True\n",
            "152 conv5_block1_0_bn: Trainable = True\n",
            "153 conv5_block1_3_bn: Trainable = True\n",
            "154 conv5_block1_add: Trainable = True\n",
            "155 conv5_block1_out: Trainable = True\n",
            "156 conv5_block2_1_conv: Trainable = True\n",
            "157 conv5_block2_1_bn: Trainable = True\n",
            "158 conv5_block2_1_relu: Trainable = True\n",
            "159 conv5_block2_2_conv: Trainable = True\n",
            "160 conv5_block2_2_bn: Trainable = True\n",
            "161 conv5_block2_2_relu: Trainable = True\n",
            "162 conv5_block2_3_conv: Trainable = True\n",
            "163 conv5_block2_3_bn: Trainable = True\n",
            "164 conv5_block2_add: Trainable = True\n",
            "165 conv5_block2_out: Trainable = True\n",
            "166 conv5_block3_1_conv: Trainable = True\n",
            "167 conv5_block3_1_bn: Trainable = True\n",
            "168 conv5_block3_1_relu: Trainable = True\n",
            "169 conv5_block3_2_conv: Trainable = True\n",
            "170 conv5_block3_2_bn: Trainable = True\n",
            "171 conv5_block3_2_relu: Trainable = True\n",
            "172 conv5_block3_3_conv: Trainable = True\n",
            "173 conv5_block3_3_bn: Trainable = True\n",
            "174 conv5_block3_add: Trainable = True\n",
            "175 conv5_block3_out: Trainable = True\n"
          ]
        }
      ]
    },
    {
      "cell_type": "code",
      "source": [
        "# Re-compile with a tiny learning rate\n",
        "model.compile(\n",
        "    optimizer=Adam(1e-5),\n",
        "    loss='categorical_crossentropy',\n",
        "    metrics=['accuracy']\n",
        ")"
      ],
      "metadata": {
        "id": "4P2jTvgWpb9U"
      },
      "execution_count": 30,
      "outputs": []
    },
    {
      "cell_type": "code",
      "source": [
        "# Get the last epoch from fine-tuning the model\n",
        "last_epoch = len(history.epoch)\n",
        "\n",
        "# --- Fine-Tuning Training ---\n",
        "# Use the 'last_epoch' variable for your initial_epoch\n",
        "fine_tune_epochs = 11\n",
        "total_epochs = last_epoch + fine_tune_epochs\n",
        "\n",
        "history = model.fit(\n",
        "    train_ds,\n",
        "    validation_data=val_ds,\n",
        "    epochs=total_epochs,\n",
        "    initial_epoch=last_epoch, # You're telling Keras to start counting from where the last training session stopped\n",
        "    callbacks=[early_stopping]\n",
        ")"
      ],
      "metadata": {
        "colab": {
          "base_uri": "https://localhost:8080/"
        },
        "id": "hrS6S8ZaowUN",
        "outputId": "0d11a848-6c28-44a8-a5c0-3b72a0f64ab2"
      },
      "execution_count": 31,
      "outputs": [
        {
          "output_type": "stream",
          "name": "stdout",
          "text": [
            "Epoch 10/20\n",
            "\u001b[1m1500/1500\u001b[0m \u001b[32m━━━━━━━━━━━━━━━━━━━━\u001b[0m\u001b[37m\u001b[0m \u001b[1m356s\u001b[0m 224ms/step - accuracy: 0.7417 - loss: 1.1950 - val_accuracy: 0.7953 - val_loss: 0.8107\n",
            "Epoch 11/20\n",
            "\u001b[1m1500/1500\u001b[0m \u001b[32m━━━━━━━━━━━━━━━━━━━━\u001b[0m\u001b[37m\u001b[0m \u001b[1m332s\u001b[0m 221ms/step - accuracy: 0.8221 - loss: 0.5426 - val_accuracy: 0.8183 - val_loss: 0.6016\n",
            "Epoch 12/20\n",
            "\u001b[1m1500/1500\u001b[0m \u001b[32m━━━━━━━━━━━━━━━━━━━━\u001b[0m\u001b[37m\u001b[0m \u001b[1m382s\u001b[0m 221ms/step - accuracy: 0.8472 - loss: 0.4408 - val_accuracy: 0.8317 - val_loss: 0.5325\n",
            "Epoch 13/20\n",
            "\u001b[1m1500/1500\u001b[0m \u001b[32m━━━━━━━━━━━━━━━━━━━━\u001b[0m\u001b[37m\u001b[0m \u001b[1m331s\u001b[0m 221ms/step - accuracy: 0.8569 - loss: 0.4010 - val_accuracy: 0.8492 - val_loss: 0.4634\n",
            "Epoch 14/20\n",
            "\u001b[1m1500/1500\u001b[0m \u001b[32m━━━━━━━━━━━━━━━━━━━━\u001b[0m\u001b[37m\u001b[0m \u001b[1m331s\u001b[0m 221ms/step - accuracy: 0.8666 - loss: 0.3717 - val_accuracy: 0.8580 - val_loss: 0.4187\n",
            "Epoch 15/20\n",
            "\u001b[1m1500/1500\u001b[0m \u001b[32m━━━━━━━━━━━━━━━━━━━━\u001b[0m\u001b[37m\u001b[0m \u001b[1m331s\u001b[0m 221ms/step - accuracy: 0.8736 - loss: 0.3486 - val_accuracy: 0.8657 - val_loss: 0.3969\n",
            "Epoch 16/20\n",
            "\u001b[1m1500/1500\u001b[0m \u001b[32m━━━━━━━━━━━━━━━━━━━━\u001b[0m\u001b[37m\u001b[0m \u001b[1m331s\u001b[0m 221ms/step - accuracy: 0.8796 - loss: 0.3282 - val_accuracy: 0.8647 - val_loss: 0.3928\n",
            "Epoch 17/20\n",
            "\u001b[1m1500/1500\u001b[0m \u001b[32m━━━━━━━━━━━━━━━━━━━━\u001b[0m\u001b[37m\u001b[0m \u001b[1m331s\u001b[0m 221ms/step - accuracy: 0.8877 - loss: 0.3091 - val_accuracy: 0.8664 - val_loss: 0.3951\n",
            "Epoch 18/20\n",
            "\u001b[1m1500/1500\u001b[0m \u001b[32m━━━━━━━━━━━━━━━━━━━━\u001b[0m\u001b[37m\u001b[0m \u001b[1m331s\u001b[0m 221ms/step - accuracy: 0.8891 - loss: 0.3031 - val_accuracy: 0.8700 - val_loss: 0.3760\n",
            "Epoch 19/20\n",
            "\u001b[1m1500/1500\u001b[0m \u001b[32m━━━━━━━━━━━━━━━━━━━━\u001b[0m\u001b[37m\u001b[0m \u001b[1m331s\u001b[0m 220ms/step - accuracy: 0.8974 - loss: 0.2835 - val_accuracy: 0.8713 - val_loss: 0.3641\n",
            "Epoch 20/20\n",
            "\u001b[1m1500/1500\u001b[0m \u001b[32m━━━━━━━━━━━━━━━━━━━━\u001b[0m\u001b[37m\u001b[0m \u001b[1m331s\u001b[0m 220ms/step - accuracy: 0.8992 - loss: 0.2721 - val_accuracy: 0.8688 - val_loss: 0.3767\n"
          ]
        }
      ]
    },
    {
      "cell_type": "code",
      "source": [
        "# Get the index of the best epoch within the fine-tuning history based on validation loss\n",
        "best_epoch_index_in_finetune_history = history.history['val_loss'].index(min(history.history['val_loss']))\n",
        "\n",
        "# The actual best epoch number is the initial_epoch of fine-tuning plus the index\n",
        "best_epoch_absolute = last_epoch + best_epoch_index_in_finetune_history\n",
        "\n",
        "# Get the corresponding metrics for the best epoch (using the index in fine-tune history)\n",
        "best_train_loss = history.history['loss'][best_epoch_index_in_finetune_history]\n",
        "best_train_accuracy = history.history['accuracy'][best_epoch_index_in_finetune_history]\n",
        "best_val_loss = history.history['val_loss'][best_epoch_index_in_finetune_history]\n",
        "best_val_accuracy = history.history['val_accuracy'][best_epoch_index_in_finetune_history]\n",
        "\n",
        "# Print the best metrics\n",
        "print(f\"Best Epoch (based on validation loss): {best_epoch_absolute + 1}\") # Add 1 because epochs are 0-indexed internally\n",
        "print(f\"Best Training Loss: {best_train_loss:.4f}\")\n",
        "print(f\"Best Training Accuracy: {best_train_accuracy:.4f}\")\n",
        "print(f\"Best Validation Loss: {best_val_loss:.4f}\")\n",
        "print(f\"Best Validation Accuracy: {best_val_accuracy:.4f}\")"
      ],
      "metadata": {
        "colab": {
          "base_uri": "https://localhost:8080/"
        },
        "id": "BgC5l4wVo7jG",
        "outputId": "b4e6012e-7856-483c-dfcf-0e7b96b65926"
      },
      "execution_count": 33,
      "outputs": [
        {
          "output_type": "stream",
          "name": "stdout",
          "text": [
            "Best Epoch (based on validation loss): 19\n",
            "Best Training Loss: 0.2839\n",
            "Best Training Accuracy: 0.8963\n",
            "Best Validation Loss: 0.3641\n",
            "Best Validation Accuracy: 0.8713\n"
          ]
        }
      ]
    },
    {
      "cell_type": "markdown",
      "source": [
        "### Making predictions on the test set"
      ],
      "metadata": {
        "id": "BIBvCPjc-1af"
      }
    },
    {
      "cell_type": "code",
      "source": [
        "# Evaluate the model on the test data\n",
        "loss, accuracy = model.evaluate(test_ds)\n",
        "\n",
        "print(f\"Final Test Loss: {loss:.4f}\")\n",
        "print(f\"Final Test Accuracy: {accuracy:.4f}\")"
      ],
      "metadata": {
        "colab": {
          "base_uri": "https://localhost:8080/"
        },
        "id": "iyDPAESz8Qem",
        "outputId": "dde9f76f-ed3a-422c-8bf5-2e0accf002b4"
      },
      "execution_count": 34,
      "outputs": [
        {
          "output_type": "stream",
          "name": "stdout",
          "text": [
            "\u001b[1m313/313\u001b[0m \u001b[32m━━━━━━━━━━━━━━━━━━━━\u001b[0m\u001b[37m\u001b[0m \u001b[1m31s\u001b[0m 100ms/step - accuracy: 0.8702 - loss: 0.3852\n",
            "Final Test Loss: 0.3760\n",
            "Final Test Accuracy: 0.8698\n"
          ]
        }
      ]
    },
    {
      "cell_type": "markdown",
      "source": [
        "## Plotting train/val loss and acc to understand what happened"
      ],
      "metadata": {
        "id": "O4CPo9iZ_QkF"
      }
    },
    {
      "cell_type": "code",
      "source": [
        "hist = history.history\n",
        "epochs = range(last_epoch, last_epoch + len(hist['accuracy'])) # Create epoch numbers starting from last_epoch\n",
        "\n",
        "plt.figure(figsize=(12, 4))\n",
        "plt.subplot(1, 2, 1)\n",
        "plt.plot(epochs, hist['accuracy'], label='Training Accuracy') # Use epochs for x-axis\n",
        "plt.plot(epochs, hist['val_accuracy'], label='Validation Accuracy') # Use epochs for x-axis\n",
        "plt.axvline(last_epoch, color='red', linestyle='--', label='Start of Fine-tuning') # Add a line for the start of fine-tuning\n",
        "plt.xlabel('Epochs')\n",
        "plt.ylabel('Accuracy')\n",
        "plt.legend()\n",
        "plt.title('Training and Validation Accuracy (Fine-tuning)')\n",
        "\n",
        "plt.subplot(1, 2, 2)\n",
        "plt.plot(epochs, hist['loss'], label='Training Loss') # Use epochs for x-axis\n",
        "plt.plot(epochs, hist['val_loss'], label='Validation Loss') # Use epochs for x-axis\n",
        "plt.axvline(last_epoch, color='red', linestyle='--', label='Start of Fine-tuning') # Add a line for the start of fine-tuning\n",
        "plt.axvline(best_epoch_absolute, color='green', linestyle='--', label='Best Epoch (Fine-tuning)') # Add a line for the best epoch in fine-tuning\n",
        "plt.xlabel('Epochs')\n",
        "plt.ylabel('Loss')\n",
        "plt.legend()\n",
        "plt.title('Training and Validation Loss (Fine-tuning)')\n",
        "\n",
        "plt.show()"
      ],
      "metadata": {
        "colab": {
          "base_uri": "https://localhost:8080/",
          "height": 410
        },
        "id": "uRP1ea-g_O6O",
        "outputId": "72487a09-432b-4edb-f18b-10edcccfb705"
      },
      "execution_count": 36,
      "outputs": [
        {
          "output_type": "display_data",
          "data": {
            "text/plain": [
              "<Figure size 1200x400 with 2 Axes>"
            ],
            "image/png": "[encoded data removed]"
          },
          "metadata": {}
        }
      ]
    },
    {
      "cell_type": "code",
      "source": [],
      "metadata": {
        "id": "LEK4YcIxA2O0"
      },
      "execution_count": null,
      "outputs": []
    }
  ]
}